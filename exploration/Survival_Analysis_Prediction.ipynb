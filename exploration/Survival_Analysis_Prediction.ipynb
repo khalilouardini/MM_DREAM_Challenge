{
 "cells": [
  {
   "cell_type": "markdown",
   "id": "41a248fa",
   "metadata": {},
   "source": [
    "# Survival Analysis Prediction"
   ]
  },
  {
   "cell_type": "code",
   "execution_count": 193,
   "id": "77472158",
   "metadata": {},
   "outputs": [],
   "source": [
    "%matplotlib inline\n",
    "import matplotlib.pyplot as plt\n",
    "import numpy as np\n",
    "import pandas as pd\n",
    "from sklearn.model_selection import train_test_split\n",
    "\n",
    "from sksurv.nonparametric import kaplan_meier_estimator\n",
    "from sksurv.linear_model import CoxPHSurvivalAnalysis\n",
    "from sksurv.ensemble import RandomSurvivalForest\n",
    "from sksurv.metrics import concordance_index_censored\n",
    "from sklearn.metrics import roc_curve, auc, balanced_accuracy_score, precision_score, recall_score, f1_score\n",
    "\n",
    "from sklearn.feature_selection import SelectKBest\n",
    "from sklearn.pipeline import Pipeline\n",
    "from sklearn.model_selection import GridSearchCV, KFold\n",
    "\n",
    "from mm_survival.pipelines import run_survival_analysis_ml"
   ]
  },
  {
   "cell_type": "code",
   "execution_count": 194,
   "id": "66a8fe9f",
   "metadata": {},
   "outputs": [
    {
     "name": "stdout",
     "output_type": "stream",
     "text": [
      "We have 57997 genes in the raw counts gene expression matrix\n",
      "We have 24128 genes in the TPM normalized gene expression matrix\n",
      "N° of patients in the MMRF cohort, with RNAseq available RNA-seq data: 735\n",
      "N° of patients in the MMRF cohort, with RNAseq available TPM-normalized RNA-seq data: 735\n",
      "Number of patients with clinical and sequencing data: 582\n",
      "Total number of genes in the dataset: 100\n",
      "(391, 42)\n"
     ]
    }
   ],
   "source": [
    "tpm_rna_filename = 'data/gene_expression/MMRF_CoMMpass_IA9_E74GTF_Salmon_entrezID_TPM_hg19.csv'\n",
    "count_rna_file = 'data/gene_expression/MMRF_CoMMpass_IA9_E74GTF_Salmon_Gene_Counts.txt'\n",
    "clinical_file = 'data/clinical/sc3_Training_ClinAnnotations.csv'\n",
    "DE_genes_filename = 'data/gene_expression/differential_expression/DE_genes.txt'\n",
    "signature_genes_filename = 'data/gene_expression/differential_expression/signature_genes.txt'\n",
    "\n",
    "df_train, df_train_censored, df_clin_uncensored, df_clin_censored = run_survival_analysis_ml(tpm_rna_filename, count_rna_file, clinical_file,\n",
    "            DE_genes_filename, signature_genes_filename, 'RF', 200, top_k_genes=40)\n"
   ]
  },
  {
   "cell_type": "code",
   "execution_count": 195,
   "id": "5ef643d3",
   "metadata": {},
   "outputs": [],
   "source": [
    "df_clin_censored['D_Status'] = df_clin_censored['D_OS_FLAG'].astype(bool)\n",
    "df_clin_uncensored['D_Status'] = df_clin_uncensored['D_OS_FLAG'].astype(bool)"
   ]
  },
  {
   "cell_type": "markdown",
   "id": "2f6ea234",
   "metadata": {},
   "source": [
    "Labels for survival analysis"
   ]
  },
  {
   "cell_type": "code",
   "execution_count": 196,
   "id": "93b9ccfd",
   "metadata": {},
   "outputs": [],
   "source": [
    "data_y = np.array([(df_clin_uncensored.iloc[i]['D_Status'].astype(bool), df_clin_uncensored.iloc[i]['D_OS']) for i in range(df_clin_uncensored.shape[0])],\n",
    "                 dtype=[('D_Status', bool), ('D_OS', np.int64)])\n",
    "data_y_censored = np.array([(df_clin_censored.iloc[i]['D_Status'].astype(bool), df_clin_censored.iloc[i]['D_OS']) for i in range(df_clin_censored.shape[0])],\n",
    "                 dtype=[('D_Status', bool), ('D_OS', np.int64)])"
   ]
  },
  {
   "cell_type": "markdown",
   "id": "4d96e6d8",
   "metadata": {},
   "source": [
    "HR labels"
   ]
  },
  {
   "cell_type": "code",
   "execution_count": 197,
   "id": "1f945da9",
   "metadata": {},
   "outputs": [],
   "source": [
    "y_hr = df_clin_uncensored['HR_FLAG'].replace({'TRUE': 1, 'FALSE': 0})"
   ]
  },
  {
   "cell_type": "code",
   "execution_count": 198,
   "id": "e68e51d7",
   "metadata": {},
   "outputs": [],
   "source": [
    "data_x = df_train.copy()\n",
    "data_x_censored  = df_train_censored.copy()"
   ]
  },
  {
   "cell_type": "markdown",
   "id": "2b255e35",
   "metadata": {},
   "source": [
    "**Train/test splits**"
   ]
  },
  {
   "cell_type": "code",
   "execution_count": 199,
   "id": "fdb87fa2",
   "metadata": {},
   "outputs": [
    {
     "data": {
      "text/plain": [
       "((312, 42), (79, 42), (312,), (79,), (312,), (79,))"
      ]
     },
     "execution_count": 199,
     "metadata": {},
     "output_type": "execute_result"
    }
   ],
   "source": [
    "df_train, df_test, y_train , y_test, y_hr_train, y_hr_test = train_test_split(data_x, data_y, y_hr, test_size=0.2)\n",
    "\n",
    "df_train.shape, df_test.shape, y_train.shape, y_test.shape, y_hr_train.shape, y_hr_test.shape"
   ]
  },
  {
   "cell_type": "markdown",
   "id": "b6a92016",
   "metadata": {},
   "source": [
    "**Augment training set**"
   ]
  },
  {
   "cell_type": "code",
   "execution_count": 200,
   "id": "caa774f9",
   "metadata": {},
   "outputs": [
    {
     "data": {
      "text/plain": [
       "((503, 42), (503,))"
      ]
     },
     "execution_count": 200,
     "metadata": {},
     "output_type": "execute_result"
    }
   ],
   "source": [
    "df_train = pd.concat([df_train, df_train_censored], axis=0)\n",
    "y_train = np.hstack([y_train, data_y_censored])\n",
    "y_hr_train = np.hstack([y_hr_train, ]\n",
    "                      )\n",
    "df_train.shape, y_train.shape"
   ]
  },
  {
   "cell_type": "markdown",
   "id": "94d83356",
   "metadata": {},
   "source": [
    "**Penalized Cox models**"
   ]
  },
  {
   "cell_type": "code",
   "execution_count": 201,
   "id": "4c50c1c8",
   "metadata": {},
   "outputs": [
    {
     "name": "stderr",
     "output_type": "stream",
     "text": [
      "//anaconda3/envs/owkin/lib/python3.7/site-packages/sklearn/utils/validation.py:1692: FutureWarning: Feature names only support names that are all strings. Got feature names with dtypes: ['int', 'str']. An error will be raised in 1.2.\n",
      "  FutureWarning,\n"
     ]
    },
    {
     "data": {
      "text/plain": [
       "CoxPHSurvivalAnalysis(alpha=0.01)"
      ]
     },
     "execution_count": 201,
     "metadata": {},
     "output_type": "execute_result"
    }
   ],
   "source": [
    "estimator = CoxPHSurvivalAnalysis(alpha=0.01)\n",
    "estimator.fit(df_train, y_train)"
   ]
  },
  {
   "cell_type": "markdown",
   "id": "e6b92742",
   "metadata": {},
   "source": [
    "**Concordance index**"
   ]
  },
  {
   "cell_type": "code",
   "execution_count": 202,
   "id": "d7ada399",
   "metadata": {},
   "outputs": [
    {
     "name": "stderr",
     "output_type": "stream",
     "text": [
      "//anaconda3/envs/owkin/lib/python3.7/site-packages/sklearn/utils/validation.py:1692: FutureWarning: Feature names only support names that are all strings. Got feature names with dtypes: ['int', 'str']. An error will be raised in 1.2.\n",
      "  FutureWarning,\n",
      "//anaconda3/envs/owkin/lib/python3.7/site-packages/sklearn/utils/validation.py:1692: FutureWarning: Feature names only support names that are all strings. Got feature names with dtypes: ['int', 'str']. An error will be raised in 1.2.\n",
      "  FutureWarning,\n"
     ]
    },
    {
     "data": {
      "text/plain": [
       "(0.7795409786396, 0.6684378320935175)"
      ]
     },
     "execution_count": 202,
     "metadata": {},
     "output_type": "execute_result"
    }
   ],
   "source": [
    "pred_test = estimator.predict(df_test)\n",
    "pred_train = estimator.predict(df_train)\n",
    "\n",
    "score_train = concordance_index_censored(y_train[\"D_Status\"], y_train[\"D_OS\"], pred_train)\n",
    "score_test = concordance_index_censored(y_test[\"D_Status\"], y_test[\"D_OS\"], pred_test)\n",
    "\n",
    "score_train[0], score_test[0]"
   ]
  },
  {
   "cell_type": "markdown",
   "id": "78558a8f",
   "metadata": {},
   "source": [
    "**Classification metrics**"
   ]
  },
  {
   "cell_type": "code",
   "execution_count": 203,
   "id": "6086e6e4",
   "metadata": {},
   "outputs": [
    {
     "name": "stderr",
     "output_type": "stream",
     "text": [
      "//anaconda3/envs/owkin/lib/python3.7/site-packages/sklearn/utils/validation.py:1692: FutureWarning: Feature names only support names that are all strings. Got feature names with dtypes: ['int', 'str']. An error will be raised in 1.2.\n",
      "  FutureWarning,\n",
      "//anaconda3/envs/owkin/lib/python3.7/site-packages/sklearn/utils/validation.py:1692: FutureWarning: Feature names only support names that are all strings. Got feature names with dtypes: ['int', 'str']. An error will be raised in 1.2.\n",
      "  FutureWarning,\n"
     ]
    }
   ],
   "source": [
    "preds_train = estimator.predict_survival_function(df_train)\n",
    "preds_test = estimator.predict_survival_function(df_test)"
   ]
  },
  {
   "cell_type": "code",
   "execution_count": 204,
   "id": "04099bbf",
   "metadata": {},
   "outputs": [
    {
     "data": {
      "text/plain": [
       "((503,), (79,))"
      ]
     },
     "execution_count": 204,
     "metadata": {},
     "output_type": "execute_result"
    }
   ],
   "source": [
    "preds_train.shape, preds_test.shape"
   ]
  },
  {
   "cell_type": "code",
   "execution_count": 205,
   "id": "2ee57991",
   "metadata": {},
   "outputs": [],
   "source": [
    "pred_hr_train, pred_hr_test = [], []\n",
    "\n",
    "for pred in preds_train:\n",
    "    for i, t in enumerate(pred.x):\n",
    "        if t >= 540:\n",
    "            p = 1 - pred.y[i]\n",
    "            pred_hr_train.append(p > 0.5)\n",
    "            break\n",
    "            \n",
    "for pred in preds_test:\n",
    "    for i, t in enumerate(pred.x):\n",
    "        if t >= 540:\n",
    "            p = 1 - pred.y[i]\n",
    "            pred_hr_test.append(p > 0.5)\n",
    "            break"
   ]
  },
  {
   "cell_type": "markdown",
   "id": "cd7dda3a",
   "metadata": {},
   "source": [
    "**Train Metrics**"
   ]
  },
  {
   "cell_type": "code",
   "execution_count": 206,
   "id": "c2da737c",
   "metadata": {},
   "outputs": [
    {
     "data": {
      "text/plain": [
       "(0.7051282051282052,\n",
       " 0.8163509471585244,\n",
       " 0.9411764705882353,\n",
       " 0.14953271028037382)"
      ]
     },
     "execution_count": 206,
     "metadata": {},
     "output_type": "execute_result"
    }
   ],
   "source": [
    "N = y_hr_train.shape[0]\n",
    "acc = accuracy_score(pred_hr_train[:N], y_hr_train)\n",
    "fpr, tpr, _ = roc_curve(pred_hr_train[:N], y_hr_train)\n",
    "auc_score = auc(fpr, tpr)\n",
    "recall = recall_score(pred_hr_train[:N], y_hr_train)\n",
    "precision = precision_score(pred_hr_train[:N], y_hr_train)\n",
    "\n",
    "acc, auc_score, recall, precision"
   ]
  },
  {
   "cell_type": "markdown",
   "id": "3ec4e8a1",
   "metadata": {},
   "source": [
    "**Test Metrics**"
   ]
  },
  {
   "cell_type": "code",
   "execution_count": 207,
   "id": "7ba50600",
   "metadata": {},
   "outputs": [
    {
     "data": {
      "text/plain": [
       "(0.7215189873417721, 0.858974358974359, 1.0, 0.043478260869565216)"
      ]
     },
     "execution_count": 207,
     "metadata": {},
     "output_type": "execute_result"
    }
   ],
   "source": [
    "acc = accuracy_score(pred_hr_test, y_hr_test)\n",
    "fpr, tpr, _ = roc_curve(pred_hr_test, y_hr_test)\n",
    "auc_score = auc(fpr, tpr)\n",
    "recall = recall_score(pred_hr_test, y_hr_test)\n",
    "precision = precision_score(pred_hr_test, y_hr_test)\n",
    "\n",
    "acc, auc_score, recall, precision"
   ]
  },
  {
   "cell_type": "code",
   "execution_count": null,
   "id": "13ec9c88",
   "metadata": {},
   "outputs": [],
   "source": []
  }
 ],
 "metadata": {
  "kernelspec": {
   "display_name": "Python 3 (ipykernel)",
   "language": "python",
   "name": "python3"
  },
  "language_info": {
   "codemirror_mode": {
    "name": "ipython",
    "version": 3
   },
   "file_extension": ".py",
   "mimetype": "text/x-python",
   "name": "python",
   "nbconvert_exporter": "python",
   "pygments_lexer": "ipython3",
   "version": "3.7.3"
  }
 },
 "nbformat": 4,
 "nbformat_minor": 5
}
